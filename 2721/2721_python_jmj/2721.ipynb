{
 "cells": [
  {
   "cell_type": "code",
   "execution_count": 4,
   "metadata": {},
   "outputs": [
    {
     "name": "stdout",
     "output_type": "stream",
     "text": [
      "4\n",
      "3\n",
      "45\n",
      "4\n",
      "105\n",
      "5\n",
      "210\n",
      "10\n",
      "2145\n"
     ]
    }
   ],
   "source": [
    "def W(a):\n",
    "    result=0\n",
    "    for i in range(1,a+1):\n",
    "        result+=i*(i+1)*(i+2)//2\n",
    "    return result\n",
    "\n",
    "n=int(input())\n",
    "for i in range(n):\n",
    "    m=int(input())\n",
    "    print(W(m))"
   ]
  }
 ],
 "metadata": {
  "kernelspec": {
   "display_name": "Python 3",
   "language": "python",
   "name": "python3"
  },
  "language_info": {
   "codemirror_mode": {
    "name": "ipython",
    "version": 3
   },
   "file_extension": ".py",
   "mimetype": "text/x-python",
   "name": "python",
   "nbconvert_exporter": "python",
   "pygments_lexer": "ipython3",
   "version": "3.9.0"
  }
 },
 "nbformat": 4,
 "nbformat_minor": 4
}
