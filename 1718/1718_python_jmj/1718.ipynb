{
 "cells": [
  {
   "cell_type": "code",
   "execution_count": 11,
   "metadata": {},
   "outputs": [
    {
     "name": "stdout",
     "output_type": "stream",
     "text": [
      "nice day\n",
      "love\n",
      "btgz oet\n"
     ]
    }
   ],
   "source": [
    "p=input()\n",
    "key=input()\n",
    "char=['a','b','c','d','e','f','g','h','i','j','k','l','m','n','o','p','q','r','s','t','u','v','w','x','y','z']\n",
    "\n",
    "result=\"\"\n",
    "for i in range(len(p)):\n",
    "    try:\n",
    "        n=char.index(p[i])\n",
    "        m=char.index(key[i%len(key)])\n",
    "        #python의 강력한 indexing사용\n",
    "        result+=char[n-m-1]\n",
    "    except:\n",
    "        result+=' '\n",
    "print(result)"
   ]
  }
 ],
 "metadata": {
  "kernelspec": {
   "display_name": "Python 3",
   "language": "python",
   "name": "python3"
  },
  "language_info": {
   "codemirror_mode": {
    "name": "ipython",
    "version": 3
   },
   "file_extension": ".py",
   "mimetype": "text/x-python",
   "name": "python",
   "nbconvert_exporter": "python",
   "pygments_lexer": "ipython3",
   "version": "3.9.0"
  }
 },
 "nbformat": 4,
 "nbformat_minor": 4
}
