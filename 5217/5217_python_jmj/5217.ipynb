{
 "cells": [
  {
   "cell_type": "code",
   "execution_count": null,
   "metadata": {},
   "outputs": [],
   "source": [
    "n=int(input())\n",
    "for i in range(n):\n",
    "    m=int(input())\n",
    "    l=[]\n",
    "    temp=m\n",
    "    for j in range(1,m//2+1):\n",
    "        if j==m-j:\n",
    "            break\n",
    "        l.append([j,m-j])\n",
    "        \n",
    "    print(f'Pairs for {m}: ',end='')\n",
    "    for k in range(len(l)):\n",
    "        print(l[k][0],l[k][1],end='')\n",
    "        if k==len(l)-1:\n",
    "            break\n",
    "        print(', ',end='')\n",
    "    print()\n"
   ]
  }
 ],
 "metadata": {
  "kernelspec": {
   "display_name": "Python 3",
   "language": "python",
   "name": "python3"
  },
  "language_info": {
   "codemirror_mode": {
    "name": "ipython",
    "version": 3
   },
   "file_extension": ".py",
   "mimetype": "text/x-python",
   "name": "python",
   "nbconvert_exporter": "python",
   "pygments_lexer": "ipython3",
   "version": "3.9.0"
  }
 },
 "nbformat": 4,
 "nbformat_minor": 4
}
