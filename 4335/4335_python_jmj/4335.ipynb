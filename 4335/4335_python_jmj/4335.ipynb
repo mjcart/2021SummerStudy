{
 "cells": [
  {
   "cell_type": "code",
   "execution_count": 6,
   "metadata": {},
   "outputs": [
    {
     "name": "stdout",
     "output_type": "stream",
     "text": [
      "10\n",
      "too high\n",
      "8\n",
      "too low\n",
      "9\n",
      "right on\n",
      "Stan may be honest\n",
      "0\n"
     ]
    }
   ],
   "source": [
    "n=int(input())\n",
    "\n",
    "uindex=11\n",
    "lindex=0\n",
    "while n!=0:\n",
    "    m=input()\n",
    "    if m=='too high':\n",
    "        uindex=min(n,uindex)\n",
    "    elif m=='too low':\n",
    "        lindex=max(n,lindex)\n",
    "    elif m=='right on':\n",
    "        if n<uindex and n>lindex:\n",
    "            print('Stan may be honest')\n",
    "        else:\n",
    "            print('Stan is dishonest')\n",
    "        uindex=11\n",
    "        lindex=0\n",
    "    n=int(input())\n"
   ]
  }
 ],
 "metadata": {
  "kernelspec": {
   "display_name": "Python 3",
   "language": "python",
   "name": "python3"
  },
  "language_info": {
   "codemirror_mode": {
    "name": "ipython",
    "version": 3
   },
   "file_extension": ".py",
   "mimetype": "text/x-python",
   "name": "python",
   "nbconvert_exporter": "python",
   "pygments_lexer": "ipython3",
   "version": "3.9.0"
  }
 },
 "nbformat": 4,
 "nbformat_minor": 4
}
