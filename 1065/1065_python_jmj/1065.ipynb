{
 "cells": [
  {
   "cell_type": "code",
   "execution_count": 61,
   "metadata": {},
   "outputs": [
    {
     "name": "stdout",
     "output_type": "stream",
     "text": [
      "1000\n",
      "144\n"
     ]
    }
   ],
   "source": [
    "import copy\n",
    "n=int(input())\n",
    "cnt=0\n",
    "\n",
    "for i in range(1,n+1):\n",
    "    #등차수열 판별\n",
    "    Flag=False\n",
    "    #차이\n",
    "    before=0\n",
    "    cha=0\n",
    "    #원본\n",
    "    original=list(str(i))\n",
    "    s=list(str(i))\n",
    "    s.sort()\n",
    "    #깊은 복사(불필요하지만 구문연습)\n",
    "    s1=copy.deepcopy(s)\n",
    "    s1.sort(reverse=True)\n",
    "    # 순,역순이어야 등차수열가능\n",
    "    if original==s or original==s1:\n",
    "        #길이가 1초과면 등차판별\n",
    "        if len(original)>1:\n",
    "            before=int(original[0])-int(original[1])\n",
    "        for j in range(len(s)-1):\n",
    "            cha=int(original[j])-int(original[j+1])\n",
    "            if before !=cha:\n",
    "                Flag=False\n",
    "                break\n",
    "            else:\n",
    "                before=cha\n",
    "        \n",
    "            Flag=True\n",
    "\n",
    "    if Flag==True or len(original)==1:\n",
    "        cnt+=1\n",
    "print(cnt)\n"
   ]
  },
  {
   "cell_type": "code",
   "execution_count": null,
   "metadata": {},
   "outputs": [],
   "source": []
  },
  {
   "cell_type": "code",
   "execution_count": null,
   "metadata": {},
   "outputs": [],
   "source": []
  },
  {
   "cell_type": "code",
   "execution_count": null,
   "metadata": {},
   "outputs": [],
   "source": []
  },
  {
   "cell_type": "code",
   "execution_count": null,
   "metadata": {},
   "outputs": [],
   "source": []
  },
  {
   "cell_type": "code",
   "execution_count": null,
   "metadata": {},
   "outputs": [],
   "source": []
  }
 ],
 "metadata": {
  "kernelspec": {
   "display_name": "Python 3",
   "language": "python",
   "name": "python3"
  },
  "language_info": {
   "codemirror_mode": {
    "name": "ipython",
    "version": 3
   },
   "file_extension": ".py",
   "mimetype": "text/x-python",
   "name": "python",
   "nbconvert_exporter": "python",
   "pygments_lexer": "ipython3",
   "version": "3.9.0"
  }
 },
 "nbformat": 4,
 "nbformat_minor": 4
}
