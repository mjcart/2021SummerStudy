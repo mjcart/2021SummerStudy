{
 "cells": [
  {
   "cell_type": "code",
   "execution_count": 4,
   "metadata": {},
   "outputs": [
    {
     "name": "stdout",
     "output_type": "stream",
     "text": [
      "2\n",
      "6 10\n",
      "30\n",
      "1 450000\n",
      "450000\n"
     ]
    }
   ],
   "source": [
    "#최대공약수\n",
    "def gcd(m,n):\n",
    "    if n==0:\n",
    "        return m\n",
    "    mod=m%n\n",
    "    if mod!=0:\n",
    "        m,n=n,mod\n",
    "        return gcd(m,n)\n",
    "    else:\n",
    "        return n\n",
    "k=int(input())\n",
    "for i in range(k):\n",
    "    x,y=map(int,input().split())\n",
    "    x,y=max(x,y),min(x,y)\n",
    "    result=x*y//gcd(x,y)\n",
    "    print(result)"
   ]
  }
 ],
 "metadata": {
  "kernelspec": {
   "display_name": "Python 3",
   "language": "python",
   "name": "python3"
  },
  "language_info": {
   "codemirror_mode": {
    "name": "ipython",
    "version": 3
   },
   "file_extension": ".py",
   "mimetype": "text/x-python",
   "name": "python",
   "nbconvert_exporter": "python",
   "pygments_lexer": "ipython3",
   "version": "3.9.0"
  }
 },
 "nbformat": 4,
 "nbformat_minor": 4
}
