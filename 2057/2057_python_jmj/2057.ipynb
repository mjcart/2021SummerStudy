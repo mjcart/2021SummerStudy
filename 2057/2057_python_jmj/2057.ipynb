{
 "cells": [
  {
   "cell_type": "code",
   "execution_count": 7,
   "metadata": {},
   "outputs": [
    {
     "name": "stdout",
     "output_type": "stream",
     "text": [
      "0\n",
      "YES\n"
     ]
    }
   ],
   "source": [
    "n=int(input())\n",
    "if n==0:\n",
    "    print('NO')\n",
    "else:\n",
    "    for i in range(20,0,-1):\n",
    "        temp=1\n",
    "        for j in range(1,i):\n",
    "            temp*=j\n",
    "        if n>=temp:\n",
    "            n=n-temp\n",
    "    if n==0:\n",
    "        print('YES')\n",
    "    else:\n",
    "        print('NO')\n",
    "        "
   ]
  }
 ],
 "metadata": {
  "kernelspec": {
   "display_name": "Python 3",
   "language": "python",
   "name": "python3"
  },
  "language_info": {
   "codemirror_mode": {
    "name": "ipython",
    "version": 3
   },
   "file_extension": ".py",
   "mimetype": "text/x-python",
   "name": "python",
   "nbconvert_exporter": "python",
   "pygments_lexer": "ipython3",
   "version": "3.9.0"
  }
 },
 "nbformat": 4,
 "nbformat_minor": 4
}
