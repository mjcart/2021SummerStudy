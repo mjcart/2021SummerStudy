{
 "cells": [
  {
   "cell_type": "code",
   "execution_count": 7,
   "metadata": {
    "scrolled": true
   },
   "outputs": [
    {
     "name": "stdout",
     "output_type": "stream",
     "text": [
      "1\n",
      "5 4\n",
      ".>o<\n",
      "v.^.\n",
      "ooo.\n",
      "^.^.\n",
      ">o<<\n",
      "3\n"
     ]
    }
   ],
   "source": [
    "#tc개수\n",
    "n=int(input())\n",
    "box=[]\n",
    "for t in range(n):\n",
    "    #tc사이 공백입력\n",
    "    z=input()\n",
    "    cnt=0\n",
    "    #tc배열크기 입력\n",
    "    r,c=map(int,input().split())\n",
    "    #tc배열\n",
    "    l=[]\n",
    "   #tc입력\n",
    "    for i in range(r):\n",
    "        l.append(list(input()))\n",
    "    #가로 사탕 검출\n",
    "    for i in range(r):\n",
    "        candy=''\n",
    "        for j in range(c):\n",
    "            candy+=l[i][j]\n",
    "        cnt+=candy.count('>o<')\n",
    "    #세로 사탕 검출\n",
    "    for j in range(c):\n",
    "        candy=''\n",
    "        for i in range(r):\n",
    "            candy+=l[i][j]\n",
    "        cnt+=candy.count('vo^')\n",
    "    #결과 출력\n",
    "    print(cnt)\n"
   ]
  }
 ],
 "metadata": {
  "kernelspec": {
   "display_name": "Python 3",
   "language": "python",
   "name": "python3"
  },
  "language_info": {
   "codemirror_mode": {
    "name": "ipython",
    "version": 3
   },
   "file_extension": ".py",
   "mimetype": "text/x-python",
   "name": "python",
   "nbconvert_exporter": "python",
   "pygments_lexer": "ipython3",
   "version": "3.9.0"
  }
 },
 "nbformat": 4,
 "nbformat_minor": 4
}
