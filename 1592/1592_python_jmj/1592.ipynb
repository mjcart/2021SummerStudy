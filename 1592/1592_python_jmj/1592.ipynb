{
 "cells": [
  {
   "cell_type": "code",
   "execution_count": 16,
   "metadata": {},
   "outputs": [
    {
     "name": "stdout",
     "output_type": "stream",
     "text": [
      "5 3 2\n",
      "10\n"
     ]
    }
   ],
   "source": [
    "n,m,l=map(int,input().split())\n",
    "p=[0 for i in range(n)]\n",
    "\n",
    "cnt=0\n",
    "index=0\n",
    "p[index]=1\n",
    "while max(p)<m:\n",
    "    \n",
    "    if p[index]%2:\n",
    "        index+=l\n",
    "        if index>=n:\n",
    "            index-=n\n",
    "    else:\n",
    "        index-=l\n",
    "        if index<0:\n",
    "            index+=n\n",
    "    p[index]+=1\n",
    "    cnt+=1\n",
    "print(cnt)\n",
    "    "
   ]
  },
  {
   "cell_type": "code",
   "execution_count": null,
   "metadata": {},
   "outputs": [],
   "source": []
  }
 ],
 "metadata": {
  "kernelspec": {
   "display_name": "Python 3",
   "language": "python",
   "name": "python3"
  },
  "language_info": {
   "codemirror_mode": {
    "name": "ipython",
    "version": 3
   },
   "file_extension": ".py",
   "mimetype": "text/x-python",
   "name": "python",
   "nbconvert_exporter": "python",
   "pygments_lexer": "ipython3",
   "version": "3.9.0"
  }
 },
 "nbformat": 4,
 "nbformat_minor": 4
}
