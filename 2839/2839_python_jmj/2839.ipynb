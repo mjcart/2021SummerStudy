{
 "cells": [
  {
   "cell_type": "code",
   "execution_count": 16,
   "metadata": {},
   "outputs": [
    {
     "name": "stdout",
     "output_type": "stream",
     "text": [
      "26\n",
      "6\n"
     ]
    }
   ],
   "source": [
    "n=int(input())\n",
    "cnt=0\n",
    "while(1):\n",
    "    if n>12:\n",
    "        n=n-5\n",
    "        cnt+=1\n",
    "    if n==12:\n",
    "        cnt+=4\n",
    "        break\n",
    "    elif n==11:\n",
    "        cnt+=3\n",
    "        break\n",
    "    elif n==10:\n",
    "        cnt+=2\n",
    "        break\n",
    "    elif n==9:\n",
    "        cnt+=3\n",
    "        break\n",
    "    elif n==8:\n",
    "        cnt+=2\n",
    "        break\n",
    "    elif n==7:\n",
    "        cnt=-1\n",
    "        break\n",
    "    elif n==6:\n",
    "        cnt+=2\n",
    "        break\n",
    "    elif n==5:\n",
    "        cnt+=1\n",
    "        break\n",
    "    elif n==4:\n",
    "        cnt=-1\n",
    "        break\n",
    "    elif n==3:\n",
    "        cnt+=1\n",
    "        break\n",
    "    elif n==2:\n",
    "        cnt=-1\n",
    "        break\n",
    "    elif n==1:\n",
    "        cnt=-1\n",
    "        break\n",
    "\n",
    "print(cnt)"
   ]
  }
 ],
 "metadata": {
  "kernelspec": {
   "display_name": "Python 3",
   "language": "python",
   "name": "python3"
  },
  "language_info": {
   "codemirror_mode": {
    "name": "ipython",
    "version": 3
   },
   "file_extension": ".py",
   "mimetype": "text/x-python",
   "name": "python",
   "nbconvert_exporter": "python",
   "pygments_lexer": "ipython3",
   "version": "3.9.0"
  }
 },
 "nbformat": 4,
 "nbformat_minor": 4
}
