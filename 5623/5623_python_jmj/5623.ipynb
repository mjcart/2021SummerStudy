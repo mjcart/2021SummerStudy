{
 "cells": [
  {
   "cell_type": "code",
   "execution_count": 13,
   "metadata": {},
   "outputs": [
    {
     "name": "stdout",
     "output_type": "stream",
     "text": [
      "4\n",
      "0 3 6 7\n",
      "3 0 5 6\n",
      "6 5 0 9\n",
      "7 6 9 0\n",
      "2 1 4 5 "
     ]
    }
   ],
   "source": [
    "n=int(input())\n",
    "l=[[0 for i in range(n)]for j in range(n)]\n",
    "for i in range(n):\n",
    "    l[i]=list(map(int,input().split()))\n",
    "a=[1 for i in range(n)]\n",
    "#n이 2면 답 고정\n",
    "if n==2:\n",
    "    print(1,1)\n",
    "else:\n",
    "    #a[0]만 결정되면 모든 수열을 알수 있음\n",
    "    a[0]=(l[0][1]+l[1][2]+l[0][2])//2-l[1][2]\n",
    "    for i in range(1,n):\n",
    "        a[i]=l[0][i]-a[0]\n",
    "    for i in a:\n",
    "        print(i,end=' ')\n"
   ]
  }
 ],
 "metadata": {
  "kernelspec": {
   "display_name": "Python 3",
   "language": "python",
   "name": "python3"
  },
  "language_info": {
   "codemirror_mode": {
    "name": "ipython",
    "version": 3
   },
   "file_extension": ".py",
   "mimetype": "text/x-python",
   "name": "python",
   "nbconvert_exporter": "python",
   "pygments_lexer": "ipython3",
   "version": "3.9.0"
  }
 },
 "nbformat": 4,
 "nbformat_minor": 4
}
