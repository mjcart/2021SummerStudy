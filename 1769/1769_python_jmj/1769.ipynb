{
 "cells": [
  {
   "cell_type": "code",
   "execution_count": 7,
   "metadata": {},
   "outputs": [
    {
     "name": "stdout",
     "output_type": "stream",
     "text": [
      "3\n",
      "0\n",
      "YES\n"
     ]
    }
   ],
   "source": [
    "n=input()\n",
    "cnt=0\n",
    "while len(n)!=1:#길이가 1이 될때 까지 반복\n",
    "    cnt+=1\n",
    "    num=0\n",
    "    #각 자리 수의 합을 구함\n",
    "    for i in range(len(n)):\n",
    "        num+=int(n[i])\n",
    "    n=str(num)\n",
    "print(cnt)\n",
    "\n",
    "if n=='3' or n=='6' or n=='9':\n",
    "    print('YES')\n",
    "else:\n",
    "    print('NO')"
   ]
  },
  {
   "cell_type": "code",
   "execution_count": null,
   "metadata": {},
   "outputs": [],
   "source": []
  }
 ],
 "metadata": {
  "kernelspec": {
   "display_name": "Python 3",
   "language": "python",
   "name": "python3"
  },
  "language_info": {
   "codemirror_mode": {
    "name": "ipython",
    "version": 3
   },
   "file_extension": ".py",
   "mimetype": "text/x-python",
   "name": "python",
   "nbconvert_exporter": "python",
   "pygments_lexer": "ipython3",
   "version": "3.9.0"
  }
 },
 "nbformat": 4,
 "nbformat_minor": 4
}
