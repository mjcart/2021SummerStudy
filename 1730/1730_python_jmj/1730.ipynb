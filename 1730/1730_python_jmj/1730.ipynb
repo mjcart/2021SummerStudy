{
 "cells": [
  {
   "cell_type": "code",
   "execution_count": 81,
   "metadata": {},
   "outputs": [
    {
     "name": "stdout",
     "output_type": "stream",
     "text": [
      "5\n",
      "DRDRRUU\n",
      "[['.', '.', '.', '.', '.'], ['.', '.', '.', '.', '.'], ['.', '.', '.', '.', '.'], ['.', '.', '.', '.', '.'], ['.', '.', '.', '.', '.']]\n",
      "|..|.\n",
      "++.|.\n",
      ".+-+.\n",
      ".....\n",
      ".....\n"
     ]
    }
   ],
   "source": [
    "n=int(input())\n",
    "m=input()\n",
    "\n",
    "\n",
    "pan=[['.'for i in range(n)]for j in range(n)]\n",
    "\n",
    "before='.'\n",
    "x=0\n",
    "y=0\n",
    "for i in m:\n",
    "    if i=='D':\n",
    "        if x!=n-1:\n",
    "            if pan[x][y]=='.':\n",
    "                pan[x][y]='|'\n",
    "            elif pan[x][y]=='-':\n",
    "                pan[x][y]='+'\n",
    "            x+=1\n",
    "            if pan[x][y]=='.':\n",
    "                pan[x][y]='|'\n",
    "            elif pan[x][y]=='-':\n",
    "                pan[x][y]='+'\n",
    "    elif i=='U':\n",
    "        if x!=0:\n",
    "            if pan[x][y]=='.':\n",
    "                pan[x][y]='|'\n",
    "            elif pan[x][y]=='-':\n",
    "                pan[x][y]='+'\n",
    "            x-=1\n",
    "            if pan[x][y]=='.':\n",
    "                pan[x][y]='|'\n",
    "            elif pan[x][y]=='-':\n",
    "                pan[x][y]='+'\n",
    "    elif i=='L':\n",
    "        if y!=0:\n",
    "            if pan[x][y]=='.':\n",
    "                pan[x][y]='-'\n",
    "            elif pan[x][y]=='|':\n",
    "                pan[x][y]='+'\n",
    "            y-=1\n",
    "            if pan[x][y]=='.':\n",
    "                pan[x][y]='-'\n",
    "            elif pan[x][y]=='|':\n",
    "                pan[x][y]='+'\n",
    "    \n",
    "    elif i=='R':\n",
    "        if y!=n-1:\n",
    "            if pan[x][y]=='.':\n",
    "                pan[x][y]='-'\n",
    "            elif pan[x][y]=='|':\n",
    "                pan[x][y]='+'\n",
    "            y+=1\n",
    "            if pan[x][y]=='.':\n",
    "                pan[x][y]='-'\n",
    "            elif pan[x][y]=='|':\n",
    "                pan[x][y]='+'\n",
    "                \n",
    "for i in range(n):\n",
    "    for j in range(n):\n",
    "        print(pan[i][j],end='')\n",
    "    print()\n",
    "\n",
    "\n"
   ]
  },
  {
   "cell_type": "code",
   "execution_count": null,
   "metadata": {},
   "outputs": [],
   "source": [
    "\n"
   ]
  }
 ],
 "metadata": {
  "kernelspec": {
   "display_name": "Python 3",
   "language": "python",
   "name": "python3"
  },
  "language_info": {
   "codemirror_mode": {
    "name": "ipython",
    "version": 3
   },
   "file_extension": ".py",
   "mimetype": "text/x-python",
   "name": "python",
   "nbconvert_exporter": "python",
   "pygments_lexer": "ipython3",
   "version": "3.9.0"
  }
 },
 "nbformat": 4,
 "nbformat_minor": 4
}
