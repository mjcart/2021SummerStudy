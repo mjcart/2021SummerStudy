{
 "cells": [
  {
   "cell_type": "code",
   "execution_count": 13,
   "metadata": {},
   "outputs": [
    {
     "name": "stdout",
     "output_type": "stream",
     "text": [
      "500000000000\n",
      "1968190469967719331\n"
     ]
    }
   ],
   "source": [
    "n=int(input())\n",
    "v=[]\n",
    "#2진수 변환=>2의 제곱수의 합으로 개수가 생성되기 때문 ->1 2 4 8 16 ...\n",
    "#순서를 구분\n",
    "while n>0:\n",
    "    v.append(n%2)\n",
    "    n//=2\n",
    "ans=0\n",
    "#각 자리수는 1 3 9 27...을 의미함\n",
    "for i in range(len(v)):\n",
    "    ans+=v[i]*pow(3,i)\n",
    "print(ans)"
   ]
  },
  {
   "cell_type": "code",
   "execution_count": null,
   "metadata": {},
   "outputs": [],
   "source": []
  }
 ],
 "metadata": {
  "kernelspec": {
   "display_name": "Python 3",
   "language": "python",
   "name": "python3"
  },
  "language_info": {
   "codemirror_mode": {
    "name": "ipython",
    "version": 3
   },
   "file_extension": ".py",
   "mimetype": "text/x-python",
   "name": "python",
   "nbconvert_exporter": "python",
   "pygments_lexer": "ipython3",
   "version": "3.9.0"
  }
 },
 "nbformat": 4,
 "nbformat_minor": 4
}
