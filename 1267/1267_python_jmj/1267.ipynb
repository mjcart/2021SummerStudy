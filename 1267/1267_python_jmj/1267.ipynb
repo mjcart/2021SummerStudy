{
 "cells": [
  {
   "cell_type": "code",
   "execution_count": 19,
   "metadata": {},
   "outputs": [
    {
     "name": "stdout",
     "output_type": "stream",
     "text": [
      "1\n",
      "60\n",
      "Y M 30\n"
     ]
    }
   ],
   "source": [
    "n=int(input())\n",
    "a=[]\n",
    "a=input().split()\n",
    "\n",
    "sumy=0\n",
    "summ=0\n",
    "for i in a:\n",
    "    Y=(int(i)+1)//30\n",
    "    y=(int(i)+1)%30\n",
    "    M=(int(i)+1)//60\n",
    "    m=(int(i)+1)%60\n",
    "    sumy+=Y*10 if y==0 else (Y+1)*10\n",
    "    summ+=M*15 if m==0 else (M+1)*15\n",
    "if sumy>summ:\n",
    "    print('M {}'.format(summ))\n",
    "elif sumy==summ:\n",
    "    print('Y M {}'.format(sumy))\n",
    "else:\n",
    "    print('Y {}'.format(sumy))"
   ]
  },
  {
   "cell_type": "code",
   "execution_count": null,
   "metadata": {},
   "outputs": [],
   "source": []
  }
 ],
 "metadata": {
  "kernelspec": {
   "display_name": "Python 3",
   "language": "python",
   "name": "python3"
  },
  "language_info": {
   "codemirror_mode": {
    "name": "ipython",
    "version": 3
   },
   "file_extension": ".py",
   "mimetype": "text/x-python",
   "name": "python",
   "nbconvert_exporter": "python",
   "pygments_lexer": "ipython3",
   "version": "3.9.0"
  }
 },
 "nbformat": 4,
 "nbformat_minor": 4
}
