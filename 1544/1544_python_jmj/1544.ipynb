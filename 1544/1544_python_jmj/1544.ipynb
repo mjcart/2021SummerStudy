{
 "cells": [
  {
   "cell_type": "code",
   "execution_count": 6,
   "metadata": {},
   "outputs": [
    {
     "name": "stdout",
     "output_type": "stream",
     "text": [
      "5\n",
      "picture\n",
      "turepic\n",
      "icturep\n",
      "word\n",
      "ordw\n",
      "['picture', '-', '-', 'word', '-']\n"
     ]
    }
   ],
   "source": [
    "n=int(input())\n",
    "word=[]\n",
    "s=''\n",
    "for i in range(n):\n",
    "    word.append(input())\n",
    "    \n",
    "for i in range(len(word)):\n",
    "    #비교되는 단어는 비교하는 단어 다음 것부터 마지막 것까지\n",
    "    for j in range(i+1,len(word)):\n",
    "        s=''\n",
    "        s=word[j]+word[j]#순환되는 것을 가상으로 만들기위해 단어를 이어붙임\n",
    "        #이어붙인 단어s 길이가 비교하고 있는 단어 길이의 2배이고 s 내부에 존재한다면\n",
    "        if len(s)==len(word[i])*2 and s.find(word[i])>-1:\n",
    "            word[j]='-'#일치한다면 더이상 필요가 없어짐\n",
    "cnt=0\n",
    "#결국 단어 목록에는 다른것만 남게됨\n",
    "for i in word:\n",
    "    if i!='-':\n",
    "        cnt+=1\n",
    "print(cnt)"
   ]
  },
  {
   "cell_type": "code",
   "execution_count": null,
   "metadata": {},
   "outputs": [],
   "source": []
  }
 ],
 "metadata": {
  "kernelspec": {
   "display_name": "Python 3",
   "language": "python",
   "name": "python3"
  },
  "language_info": {
   "codemirror_mode": {
    "name": "ipython",
    "version": 3
   },
   "file_extension": ".py",
   "mimetype": "text/x-python",
   "name": "python",
   "nbconvert_exporter": "python",
   "pygments_lexer": "ipython3",
   "version": "3.9.0"
  }
 },
 "nbformat": 4,
 "nbformat_minor": 4
}
