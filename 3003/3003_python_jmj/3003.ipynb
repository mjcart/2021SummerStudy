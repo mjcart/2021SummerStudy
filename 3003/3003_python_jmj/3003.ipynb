{
 "cells": [
  {
   "cell_type": "code",
   "execution_count": 34,
   "metadata": {},
   "outputs": [
    {
     "name": "stdout",
     "output_type": "stream",
     "text": [
      "2 1 2 1 2 1\n",
      "['2', '1', '2', '1', '2', '1']\n",
      "-1\n",
      "0\n",
      "0\n",
      "1\n",
      "0\n",
      "7\n"
     ]
    }
   ],
   "source": [
    "h=[]\n",
    "h.append(input().split())\n",
    "h=h[0]#입력받은 핀 리스트\n",
    "p=[1,1,2,2,2,8]\n",
    "for i in range(6):\n",
    "    print(p[i]-int(h[i]))\n",
    "\n"
   ]
  },
  {
   "cell_type": "code",
   "execution_count": null,
   "metadata": {},
   "outputs": [],
   "source": []
  }
 ],
 "metadata": {
  "kernelspec": {
   "display_name": "Python 3",
   "language": "python",
   "name": "python3"
  },
  "language_info": {
   "codemirror_mode": {
    "name": "ipython",
    "version": 3
   },
   "file_extension": ".py",
   "mimetype": "text/x-python",
   "name": "python",
   "nbconvert_exporter": "python",
   "pygments_lexer": "ipython3",
   "version": "3.9.0"
  }
 },
 "nbformat": 4,
 "nbformat_minor": 4
}
