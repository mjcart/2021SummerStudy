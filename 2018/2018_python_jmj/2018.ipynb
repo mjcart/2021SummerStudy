{
 "cells": [
  {
   "cell_type": "code",
   "execution_count": 16,
   "metadata": {},
   "outputs": [
    {
     "name": "stdout",
     "output_type": "stream",
     "text": [
      "15\n",
      "4\n"
     ]
    }
   ],
   "source": [
    "#pypy3로 채점해야함\n",
    "n=int(input())\n",
    "cnt=1\n",
    "for i in range(1,n/2+1):\n",
    "    s=i\n",
    "    for j in range(i+1,n/2+2):\n",
    "        if s==n:\n",
    "            cnt+=1\n",
    "            break\n",
    "        if s>n:\n",
    "            break\n",
    "        s+=j\n",
    "print(cnt)"
   ]
  },
  {
   "cell_type": "code",
   "execution_count": null,
   "metadata": {},
   "outputs": [],
   "source": [
    "#pypy3로 채점해야함\n",
    "n=int(input())\n",
    "cnt=0\n",
    "for i in range(1,n//2+1):\n",
    "    s=0\n",
    "    buffer=i\n",
    "    while s<n:\n",
    "        s+=buffer\n",
    "        buffer+=1\n",
    "    if s==n or buffer==n:\n",
    "        cnt+=1\n",
    "print(cnt+1)"
   ]
  }
 ],
 "metadata": {
  "kernelspec": {
   "display_name": "Python 3",
   "language": "python",
   "name": "python3"
  },
  "language_info": {
   "codemirror_mode": {
    "name": "ipython",
    "version": 3
   },
   "file_extension": ".py",
   "mimetype": "text/x-python",
   "name": "python",
   "nbconvert_exporter": "python",
   "pygments_lexer": "ipython3",
   "version": "3.9.0"
  }
 },
 "nbformat": 4,
 "nbformat_minor": 4
}
