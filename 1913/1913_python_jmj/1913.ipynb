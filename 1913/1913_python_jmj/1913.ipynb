{
 "cells": [
  {
   "cell_type": "code",
   "execution_count": 9,
   "metadata": {},
   "outputs": [
    {
     "name": "stdout",
     "output_type": "stream",
     "text": [
      "7\n",
      "35\n",
      "49 26 27 28 29 30 31 \n",
      "48 25 10 11 12 13 32 \n",
      "47 24 9 2 3 14 33 \n",
      "46 23 8 1 4 15 34 \n",
      "45 22 7 6 5 16 35 \n",
      "44 21 20 19 18 17 36 \n",
      "43 42 41 40 39 38 37 \n",
      "5 7\n"
     ]
    }
   ],
   "source": [
    "n=int(input())\n",
    "m=int(input())\n",
    "l=[[0 for i in range(n)]for j in range(n)]\n",
    "r=0\n",
    "c=0\n",
    "#값이 들어가고있는 모서리 인덱스\n",
    "l0=0\n",
    "l1=n-1\n",
    "r0=0\n",
    "r1=n-1\n",
    "num=n*n\n",
    "while(1):\n",
    "    #내려가면서 숫자 넣기\n",
    "    if r<l1 and c==r0:\n",
    "        if num==m:\n",
    "            x=r\n",
    "            y=c\n",
    "        l[r][c]=num\n",
    "        num-=1\n",
    "        r+=1\n",
    "    #오른쪽으로가면서 숫자 넣기\n",
    "    elif r==l1 and c<r1:\n",
    "        #찾는 숫자 인덱스 저장\n",
    "        if num==m:\n",
    "            x=r\n",
    "            y=c\n",
    "        l[r][c]=num\n",
    "        num-=1\n",
    "        c+=1\n",
    "    #위로가며 숫자넣기\n",
    "    elif r>l0 and c==r1:\n",
    "        if num==m:\n",
    "            x=r\n",
    "            y=c\n",
    "        l[r][c]=num\n",
    "        num-=1\n",
    "        r-=1\n",
    "    #왼쪽으로 가며 숫자 넣기\n",
    "    elif r==l0 and c>r0:\n",
    "        if num==m:\n",
    "            x=r\n",
    "            y=c\n",
    "        l[r][c]=num\n",
    "        num-=1\n",
    "        c-=1\n",
    "        #마지막부분에 도착시 새로운 모서리 설정\n",
    "        if c==r0+1:\n",
    "            l0+=1\n",
    "            r0+=1\n",
    "            l1-=1\n",
    "            r1-=1\n",
    "    #가운데 점 도착\n",
    "    elif c==r:\n",
    "        if num==m:\n",
    "            x=r\n",
    "            y=c\n",
    "        l[c][r]=num\n",
    "        break\n",
    "    \n",
    "for i in range(n):\n",
    "    for j in range(n):\n",
    "        print(l[i][j],end=' ')\n",
    "    print()\n",
    "print(x+1,y+1)"
   ]
  },
  {
   "cell_type": "code",
   "execution_count": 7,
   "metadata": {
    "scrolled": true
   },
   "outputs": [
    {
     "data": {
      "text/plain": [
       "[[49, 26, 27, 28, 29, 30, 31],\n",
       " [48, 25, 10, 11, 12, 13, 32],\n",
       " [47, 24, 9, 2, 3, 14, 33],\n",
       " [46, 23, 8, 1, 4, 15, 34],\n",
       " [45, 22, 7, 6, 5, 16, 35],\n",
       " [44, 21, 20, 19, 18, 17, 36],\n",
       " [43, 42, 41, 40, 39, 38, 37]]"
      ]
     },
     "execution_count": 7,
     "metadata": {},
     "output_type": "execute_result"
    }
   ],
   "source": [
    "l"
   ]
  },
  {
   "cell_type": "code",
   "execution_count": null,
   "metadata": {},
   "outputs": [],
   "source": []
  }
 ],
 "metadata": {
  "kernelspec": {
   "display_name": "Python 3",
   "language": "python",
   "name": "python3"
  },
  "language_info": {
   "codemirror_mode": {
    "name": "ipython",
    "version": 3
   },
   "file_extension": ".py",
   "mimetype": "text/x-python",
   "name": "python",
   "nbconvert_exporter": "python",
   "pygments_lexer": "ipython3",
   "version": "3.9.0"
  }
 },
 "nbformat": 4,
 "nbformat_minor": 4
}
