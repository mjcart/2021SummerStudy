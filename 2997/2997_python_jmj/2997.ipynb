{
 "cells": [
  {
   "cell_type": "code",
   "execution_count": 20,
   "metadata": {},
   "outputs": [
    {
     "name": "stdout",
     "output_type": "stream",
     "text": [
      "10 1 4\n",
      "7\n"
     ]
    }
   ],
   "source": [
    "l=input().split()\n",
    "l=list(map(int,l))\n",
    "l.sort()\n",
    "char=int(l[1])-int(l[0])\n",
    "char2=int(l[2])-int(l[1])\n",
    "if char==char2:\n",
    "    if int(l[2])+char>100:\n",
    "        print(int(l[0])-char)\n",
    "    else:\n",
    "        print(int(l[2])+char)\n",
    "elif char>char2:\n",
    "    print(int(l[0])+char2)\n",
    "else:\n",
    "    print(int(l[1])+char)\n",
    "\n"
   ]
  }
 ],
 "metadata": {
  "kernelspec": {
   "display_name": "Python 3",
   "language": "python",
   "name": "python3"
  },
  "language_info": {
   "codemirror_mode": {
    "name": "ipython",
    "version": 3
   },
   "file_extension": ".py",
   "mimetype": "text/x-python",
   "name": "python",
   "nbconvert_exporter": "python",
   "pygments_lexer": "ipython3",
   "version": "3.9.0"
  }
 },
 "nbformat": 4,
 "nbformat_minor": 4
}
