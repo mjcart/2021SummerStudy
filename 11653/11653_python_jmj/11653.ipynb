{
 "cells": [
  {
   "cell_type": "code",
   "execution_count": 39,
   "metadata": {},
   "outputs": [
    {
     "name": "stdout",
     "output_type": "stream",
     "text": [
      "9991\n",
      "97\n",
      "103\n"
     ]
    }
   ],
   "source": [
    "import math\n",
    "n=int(input())\n",
    "while True:\n",
    "    if n==1:\n",
    "        break\n",
    "    #소수판정\n",
    "    for i in range(2,int(math.sqrt(n)+1)+1):\n",
    "        if n%i==0:\n",
    "            print(i)\n",
    "            n=n//i\n",
    "            break\n",
    "        #자신이 소수\n",
    "        if i==int(math.sqrt(n)+1):\n",
    "            print(n)\n",
    "            n=n//n\n",
    "            \n",
    "            break\n",
    "\n",
    "\n",
    "    "
   ]
  }
 ],
 "metadata": {
  "kernelspec": {
   "display_name": "Python 3",
   "language": "python",
   "name": "python3"
  },
  "language_info": {
   "codemirror_mode": {
    "name": "ipython",
    "version": 3
   },
   "file_extension": ".py",
   "mimetype": "text/x-python",
   "name": "python",
   "nbconvert_exporter": "python",
   "pygments_lexer": "ipython3",
   "version": "3.9.0"
  }
 },
 "nbformat": 4,
 "nbformat_minor": 4
}
