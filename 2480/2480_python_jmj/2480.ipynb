{
 "cells": [
  {
   "cell_type": "code",
   "execution_count": 2,
   "metadata": {},
   "outputs": [
    {
     "name": "stdout",
     "output_type": "stream",
     "text": [
      "3 3 6\n",
      "1300\n"
     ]
    }
   ],
   "source": [
    "n,m,o=map(int,input().split())\n",
    "result=0\n",
    "if n==m and n==o:#모두같을 경우\n",
    "    result=10000+n*1000\n",
    "elif n==m or n==o or m==o:#2개만 같을 경우\n",
    "    if n==m or n==o:#n이 중복된 수자일경우\n",
    "        result=1000+n*100\n",
    "    else:#m,o가 중복\n",
    "        result=1000+m*100\n",
    "else:\n",
    "    result=max(n,m,o)*100\n",
    "print(result)"
   ]
  }
 ],
 "metadata": {
  "kernelspec": {
   "display_name": "Python 3",
   "language": "python",
   "name": "python3"
  },
  "language_info": {
   "codemirror_mode": {
    "name": "ipython",
    "version": 3
   },
   "file_extension": ".py",
   "mimetype": "text/x-python",
   "name": "python",
   "nbconvert_exporter": "python",
   "pygments_lexer": "ipython3",
   "version": "3.9.0"
  }
 },
 "nbformat": 4,
 "nbformat_minor": 4
}
