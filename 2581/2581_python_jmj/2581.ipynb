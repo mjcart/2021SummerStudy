{
 "cells": [
  {
   "cell_type": "code",
   "execution_count": 22,
   "metadata": {},
   "outputs": [
    {
     "name": "stdout",
     "output_type": "stream",
     "text": [
      "1\n",
      "2\n",
      "2\n",
      "2\n"
     ]
    }
   ],
   "source": [
    "import math\n",
    "def is_prime_num(x):\n",
    "    #2부터 x의 제곱근까지 모든 수 확인\n",
    "    for i in range(2,int(math.sqrt(x))+1):\n",
    "        if x%i==0:\n",
    "            return False\n",
    "    return True\n",
    "n=int(input())\n",
    "m=int(input())\n",
    "l=[]\n",
    "for j in range(n,m+1):\n",
    "    #1은 소수가 아님\n",
    "    if j==1:\n",
    "        continue\n",
    "    if is_prime_num(j):\n",
    "        l.append(j)\n",
    "\n",
    "if len(l)>0:\n",
    "    print(sum(l))\n",
    "    print(min(l))\n",
    "    \n",
    "else:\n",
    "    print(-1)\n",
    "\n"
   ]
  }
 ],
 "metadata": {
  "kernelspec": {
   "display_name": "Python 3",
   "language": "python",
   "name": "python3"
  },
  "language_info": {
   "codemirror_mode": {
    "name": "ipython",
    "version": 3
   },
   "file_extension": ".py",
   "mimetype": "text/x-python",
   "name": "python",
   "nbconvert_exporter": "python",
   "pygments_lexer": "ipython3",
   "version": "3.9.0"
  }
 },
 "nbformat": 4,
 "nbformat_minor": 4
}
