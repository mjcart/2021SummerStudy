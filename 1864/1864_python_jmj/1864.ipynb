{
 "cells": [
  {
   "cell_type": "code",
   "execution_count": 7,
   "metadata": {},
   "outputs": [
    {
     "name": "stdout",
     "output_type": "stream",
     "text": [
      "(@&\n",
      "158\n",
      "#\n"
     ]
    }
   ],
   "source": [
    "num=['-','\\\\','(','@','?','>','&','%','/']\n",
    "n=input()\n",
    "while n!='#':\n",
    "    result=0\n",
    "    for i in  range(len(n)):\n",
    "        if num.index(n[len(n)-1-i])==8:\n",
    "            result+=-1*pow(8,i)\n",
    "        else:\n",
    "            result+=num.index(n[len(n)-1-i])*pow(8,i)\n",
    "    print(result)\n",
    "    n=input()"
   ]
  },
  {
   "cell_type": "code",
   "execution_count": null,
   "metadata": {},
   "outputs": [],
   "source": []
  }
 ],
 "metadata": {
  "kernelspec": {
   "display_name": "Python 3",
   "language": "python",
   "name": "python3"
  },
  "language_info": {
   "codemirror_mode": {
    "name": "ipython",
    "version": 3
   },
   "file_extension": ".py",
   "mimetype": "text/x-python",
   "name": "python",
   "nbconvert_exporter": "python",
   "pygments_lexer": "ipython3",
   "version": "3.9.0"
  }
 },
 "nbformat": 4,
 "nbformat_minor": 4
}
