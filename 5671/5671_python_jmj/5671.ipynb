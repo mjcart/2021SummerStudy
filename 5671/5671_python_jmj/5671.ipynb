{
 "cells": [
  {
   "cell_type": "code",
   "execution_count": 35,
   "metadata": {},
   "outputs": [
    {
     "name": "stdout",
     "output_type": "stream",
     "text": [
      "87 104\n",
      "14\n"
     ]
    }
   ],
   "source": [
    "\n",
    "while True:\n",
    "    #입력이 끝날때까지 반복\n",
    "    try:\n",
    "        \n",
    "        n,m=map(int,input().split())\n",
    "        cnt=0\n",
    "        \n",
    "        for i in range(n,m+1):\n",
    "            check=True\n",
    "            \n",
    "            l=str(i)\n",
    "            #중복되는 숫자 걸르기\n",
    "            temp=[]\n",
    "            for j in l:\n",
    "                if j not in temp:\n",
    "                    temp.append(j)\n",
    "                else:\n",
    "                    check=False\n",
    "                    break\n",
    "            if check==True:\n",
    "                cnt+=1\n",
    "        print(cnt)\n",
    "    except:\n",
    "        break\n",
    "\n",
    "\n",
    "\n"
   ]
  }
 ],
 "metadata": {
  "kernelspec": {
   "display_name": "Python 3",
   "language": "python",
   "name": "python3"
  },
  "language_info": {
   "codemirror_mode": {
    "name": "ipython",
    "version": 3
   },
   "file_extension": ".py",
   "mimetype": "text/x-python",
   "name": "python",
   "nbconvert_exporter": "python",
   "pygments_lexer": "ipython3",
   "version": "3.9.0"
  }
 },
 "nbformat": 4,
 "nbformat_minor": 4
}
