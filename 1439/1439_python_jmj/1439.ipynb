{
 "cells": [
  {
   "cell_type": "code",
   "execution_count": 2,
   "metadata": {},
   "outputs": [
    {
     "name": "stdout",
     "output_type": "stream",
     "text": [
      "0\n",
      "0\n"
     ]
    }
   ],
   "source": [
    "s=input()\n",
    "#0에서1, 1에서0으로 바뀐 횟수 카운트\n",
    "convert0to1=0\n",
    "convert1to0=0\n",
    "#바로전에 온 숫자\n",
    "state=0\n",
    "state1=1\n",
    "for i in s:\n",
    "    #1을 0으로 뒤집기\n",
    "    if i=='1' and state==0:#0이 오다가 1이 옴\n",
    "        convert1to0+=1\n",
    "        state=1\n",
    "    elif i=='0' and state==1:#1이 오다가 0이 옴\n",
    "        state=0\n",
    "        \n",
    "    #0을 1로 뒤집기\n",
    "    if i=='0' and state1==1:#1이 오다가 0이 옴\n",
    "        convert0to1+=1\n",
    "        state1=0\n",
    "    elif i=='1' and state1==0:#0이 오다가 1이 옴\n",
    "        state1=1\n",
    "print(min(convert0to1,convert1to0))"
   ]
  },
  {
   "cell_type": "code",
   "execution_count": null,
   "metadata": {},
   "outputs": [],
   "source": []
  }
 ],
 "metadata": {
  "kernelspec": {
   "display_name": "Python 3",
   "language": "python",
   "name": "python3"
  },
  "language_info": {
   "codemirror_mode": {
    "name": "ipython",
    "version": 3
   },
   "file_extension": ".py",
   "mimetype": "text/x-python",
   "name": "python",
   "nbconvert_exporter": "python",
   "pygments_lexer": "ipython3",
   "version": "3.9.0"
  }
 },
 "nbformat": 4,
 "nbformat_minor": 4
}
