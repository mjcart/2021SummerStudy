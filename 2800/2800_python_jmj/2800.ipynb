{
 "cells": [
  {
   "cell_type": "code",
   "execution_count": 17,
   "metadata": {
    "scrolled": true
   },
   "outputs": [
    {
     "name": "stdout",
     "output_type": "stream",
     "text": [
      "(((1)))(2)\n",
      "(((1)))2\n",
      "((1))(2)\n",
      "((1))2\n",
      "(1)(2)\n",
      "(1)2\n",
      "1(2)\n",
      "12\n"
     ]
    }
   ],
   "source": [
    "import itertools\n",
    "import copy\n",
    "word=input()\n",
    "#인덱스로 접근하여 수정 가능하게 하기위해 리스트로 변환\n",
    "word=list(word)\n",
    "#word가 바뀌기 때문에 깊은 복사 필요!!!!!!!!!!!!!!!!1\n",
    "original=copy.deepcopy(word)\n",
    "#original=word\n",
    "#결과리스트\n",
    "result=[]\n",
    "#괄호의 카운트\n",
    "cnt=0\n",
    "rcnt=0\n",
    "#괄호의 인덱스\n",
    "first=0\n",
    "last=0\n",
    "#조합리스트\n",
    "combi=[]\n",
    "while first!=-1 and last!=-1:#괄호를 찾지 못 할 때까지\n",
    "    first=-1\n",
    "    last=-1\n",
    "    cnt=0\n",
    "    rcnt=0\n",
    "    for i in range(len(word)):\n",
    "        if word[i]=='(':\n",
    "            if cnt==0:#처음 '('발견\n",
    "                #인덱스 저장\n",
    "                first=i\n",
    "            #'('카운트증가\n",
    "            cnt+=1\n",
    "        if word[i]==')':#')'발견\n",
    "            #')'카운트증가\n",
    "            rcnt+=1\n",
    "            if cnt==rcnt:#'('')'짝이 맞다면\n",
    "                #인덱스 저장\n",
    "                last=i\n",
    "                break\n",
    "    if first!=-1 and last!=-1:#괄호짝을 찾았다!\n",
    "        #문자열에서 해당 괄호짝을 지운다\n",
    "        word[first]=''\n",
    "        word[last]=''\n",
    "        #괄호짝의 인덱스를 저장\n",
    "        combi.append([first,last])\n",
    "\n",
    "for i in range(len(combi)):\n",
    "    #모든 괄호짝의 조합을 리스트화(1개부터 전체까지의 조합)\n",
    "    ncr=list(itertools.combinations(combi,i+1))\n",
    "\n",
    "    for j in range(len(ncr)):\n",
    "        #구해진 조합들\n",
    "        word=copy.deepcopy(original)\n",
    "        for k in range(len(ncr[j])):\n",
    "            #j번째조합,조합 내 원소 k,'(' 인덱스0,')'인덱스 1 의 괄호제거\n",
    "            word[ncr[j][k][0]]=''\n",
    "            word[ncr[j][k][1]]=''\n",
    "        #구해진 조합들에서 각 조합으로 괄호들이 제거된 문자열 리스트에 추가\n",
    "        result.append(word)\n",
    "#문자열로 자료형 변환\n",
    "stra=[]\n",
    "for i in range(len(result)):\n",
    "    stra.append(\"\".join(result[i]))\n",
    "#문자열 정렬\n",
    "stra.sort(reverse=False)\n",
    "before=\"\"\n",
    "#중복된 값 제외하고 출력\n",
    "for i in stra:\n",
    "    if before==i:\n",
    "        continue\n",
    "    before=i\n",
    "    print(i)\n",
    "\n",
    "#(((1)))(2)의 출력값\n",
    "\n"
   ]
  }
 ],
 "metadata": {
  "kernelspec": {
   "display_name": "Python 3",
   "language": "python",
   "name": "python3"
  },
  "language_info": {
   "codemirror_mode": {
    "name": "ipython",
    "version": 3
   },
   "file_extension": ".py",
   "mimetype": "text/x-python",
   "name": "python",
   "nbconvert_exporter": "python",
   "pygments_lexer": "ipython3",
   "version": "3.9.0"
  }
 },
 "nbformat": 4,
 "nbformat_minor": 4
}
