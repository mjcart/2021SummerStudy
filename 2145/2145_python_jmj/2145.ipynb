{
 "cells": [
  {
   "cell_type": "code",
   "execution_count": 6,
   "metadata": {},
   "outputs": [
    {
     "name": "stdout",
     "output_type": "stream",
     "text": [
      "1\n",
      "1\n",
      "2\n",
      "2\n",
      "3\n",
      "3\n",
      "4\n",
      "4\n",
      "673\n",
      "7\n",
      "0\n"
     ]
    }
   ],
   "source": [
    "n=input()\n",
    "result=0\n",
    "sum=0\n",
    "while n!='0':#0이올때까지\n",
    "    m=list(n)\n",
    "    #처음부터 한글자만 오는 것 대비\n",
    "    sum=n\n",
    "    while len(m)!=1:#길이가1될때까지\n",
    "        sum=0\n",
    "        for i in range(len(m)):\n",
    "            sum+=int(m[i])\n",
    "        m=list(str(sum))\n",
    "    #1자리수가 된 sum 을 출력\n",
    "    result=sum\n",
    "    print(result)\n",
    "    n=input()\n",
    "    \n",
    "        "
   ]
  }
 ],
 "metadata": {
  "kernelspec": {
   "display_name": "Python 3",
   "language": "python",
   "name": "python3"
  },
  "language_info": {
   "codemirror_mode": {
    "name": "ipython",
    "version": 3
   },
   "file_extension": ".py",
   "mimetype": "text/x-python",
   "name": "python",
   "nbconvert_exporter": "python",
   "pygments_lexer": "ipython3",
   "version": "3.9.0"
  }
 },
 "nbformat": 4,
 "nbformat_minor": 4
}
