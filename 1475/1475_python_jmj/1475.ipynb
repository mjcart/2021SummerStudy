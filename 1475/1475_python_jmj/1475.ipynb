{
 "cells": [
  {
   "cell_type": "code",
   "execution_count": 16,
   "metadata": {},
   "outputs": [
    {
     "name": "stdout",
     "output_type": "stream",
     "text": [
      "699\n",
      "2\n"
     ]
    }
   ],
   "source": [
    "import math\n",
    "n=input()\n",
    "num=[0]*10\n",
    "for i in n:\n",
    "     num[int(i)]+=1\n",
    "#6과 9는 서로 바꿀수있기때문에 한가지로 보면 한세트에 2개가 들어있는것으로 볼수 있다.\n",
    "#따라서 6과 9 갯수를 더해 2로 나눈것이 6과 9를 만들수있는 최소 세트가 된다\n",
    "num[6],num[9]=math.ceil((num[6]+num[9])/2),math.ceil((num[6]+num[9])/2)\n",
    "\n",
    "\n",
    "print(max(num))"
   ]
  },
  {
   "cell_type": "code",
   "execution_count": null,
   "metadata": {},
   "outputs": [],
   "source": []
  }
 ],
 "metadata": {
  "kernelspec": {
   "display_name": "Python 3",
   "language": "python",
   "name": "python3"
  },
  "language_info": {
   "codemirror_mode": {
    "name": "ipython",
    "version": 3
   },
   "file_extension": ".py",
   "mimetype": "text/x-python",
   "name": "python",
   "nbconvert_exporter": "python",
   "pygments_lexer": "ipython3",
   "version": "3.9.0"
  }
 },
 "nbformat": 4,
 "nbformat_minor": 4
}
