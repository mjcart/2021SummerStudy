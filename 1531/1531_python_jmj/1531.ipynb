{
 "cells": [
  {
   "cell_type": "code",
   "execution_count": 22,
   "metadata": {},
   "outputs": [
    {
     "name": "stdout",
     "output_type": "stream",
     "text": [
      "3 1\n",
      "21 21 80 80\n",
      "41 41 60 60\n",
      "71 71 90 90\n",
      "500\n"
     ]
    }
   ],
   "source": [
    "n,m=map(int,input().split())\n",
    "pic=[[0 for i in range(100)] for j in range(100)]#얕은 복사 하면 안됌!\n",
    "for i in range(n):\n",
    "    lx, ly, rx,ry=map(int,input().split())\n",
    "    for x in range(lx-1,rx):\n",
    "        for y in range(ly-1,ry):\n",
    "            pic[x][y]+=1#좌표에 모자이크 중첩\n",
    "\n",
    "cnt=0\n",
    "for x in range(100):\n",
    "    for y in range(100):\n",
    "        if pic[x][y]>m:#좌표에 모자이크된 수가 m보다 크면 보이지 않음\n",
    "            cnt+=1\n",
    "print(cnt)\n",
    "\n",
    "print(pic)\n",
    "\n",
    "\n",
    "\n"
   ]
  }
 ],
 "metadata": {
  "kernelspec": {
   "display_name": "Python 3",
   "language": "python",
   "name": "python3"
  },
  "language_info": {
   "codemirror_mode": {
    "name": "ipython",
    "version": 3
   },
   "file_extension": ".py",
   "mimetype": "text/x-python",
   "name": "python",
   "nbconvert_exporter": "python",
   "pygments_lexer": "ipython3",
   "version": "3.9.0"
  }
 },
 "nbformat": 4,
 "nbformat_minor": 4
}
