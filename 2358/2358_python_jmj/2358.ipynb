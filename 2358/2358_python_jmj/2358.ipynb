{
 "cells": [
  {
   "cell_type": "code",
   "execution_count": 5,
   "metadata": {},
   "outputs": [
    {
     "name": "stdout",
     "output_type": "stream",
     "text": [
      "4\n",
      "0 0\n",
      "10 10\n",
      "0 10\n",
      "10 0\n",
      "4\n"
     ]
    }
   ],
   "source": [
    "n=int(input())\n",
    "X=[0 for i in range(100000)]\n",
    "Y=[0 for i in range(100000)]\n",
    "cnt=0\n",
    "#좌표가 같은 점들은 하나의 직선을 만들수있음\n",
    "for i in range(n):\n",
    "    x,y=(map(int, input().split()))\n",
    "    X[x]+=1\n",
    "    Y[y]+=1\n",
    "#해당좌표가 2개이상이면 직선추가\n",
    "for i in range(100000):\n",
    "    if X[i] >1:\n",
    "        cnt+=1\n",
    "    if Y[i]>1:\n",
    "        cnt+=1\n",
    "print(cnt)"
   ]
  }
 ],
 "metadata": {
  "kernelspec": {
   "display_name": "Python 3",
   "language": "python",
   "name": "python3"
  },
  "language_info": {
   "codemirror_mode": {
    "name": "ipython",
    "version": 3
   },
   "file_extension": ".py",
   "mimetype": "text/x-python",
   "name": "python",
   "nbconvert_exporter": "python",
   "pygments_lexer": "ipython3",
   "version": "3.9.0"
  }
 },
 "nbformat": 4,
 "nbformat_minor": 4
}
