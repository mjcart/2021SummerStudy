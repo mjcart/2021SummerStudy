{
 "cells": [
  {
   "cell_type": "code",
   "execution_count": 20,
   "metadata": {},
   "outputs": [
    {
     "name": "stdout",
     "output_type": "stream",
     "text": [
      "4 2\n",
      "GOOD\n"
     ]
    }
   ],
   "source": [
    "p,k=map(int,input().split())\n",
    "if k==2 :#2보다 작은 소수는 없다.\n",
    "    print('GOOD')\n",
    "\n",
    "for i in range(2,k):\n",
    "    if p%(i)==0:#나눌수있는 소수 존재\n",
    "        \n",
    "        print('BAD {}'.format(i))\n",
    "        break\n",
    "    if i==k-1:#마지막까지 살아남음\n",
    "        print('GOOD')\n",
    "        "
   ]
  },
  {
   "cell_type": "code",
   "execution_count": null,
   "metadata": {},
   "outputs": [],
   "source": []
  }
 ],
 "metadata": {
  "kernelspec": {
   "display_name": "Python 3",
   "language": "python",
   "name": "python3"
  },
  "language_info": {
   "codemirror_mode": {
    "name": "ipython",
    "version": 3
   },
   "file_extension": ".py",
   "mimetype": "text/x-python",
   "name": "python",
   "nbconvert_exporter": "python",
   "pygments_lexer": "ipython3",
   "version": "3.9.0"
  }
 },
 "nbformat": 4,
 "nbformat_minor": 4
}
