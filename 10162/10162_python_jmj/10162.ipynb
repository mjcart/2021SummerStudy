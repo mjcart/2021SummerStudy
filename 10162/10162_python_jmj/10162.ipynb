{
 "cells": [
  {
   "cell_type": "code",
   "execution_count": 2,
   "metadata": {},
   "outputs": [
    {
     "name": "stdout",
     "output_type": "stream",
     "text": [
      "189\n",
      "-1\n"
     ]
    }
   ],
   "source": [
    "n=int(input())\n",
    "a=n//300\n",
    "b=n%300//60\n",
    "c=n%60//10\n",
    "if n%10!=0:\n",
    "    print(-1)\n",
    "else:\n",
    "    print(a,b,c)"
   ]
  }
 ],
 "metadata": {
  "kernelspec": {
   "display_name": "Python 3",
   "language": "python",
   "name": "python3"
  },
  "language_info": {
   "codemirror_mode": {
    "name": "ipython",
    "version": 3
   },
   "file_extension": ".py",
   "mimetype": "text/x-python",
   "name": "python",
   "nbconvert_exporter": "python",
   "pygments_lexer": "ipython3",
   "version": "3.9.0"
  }
 },
 "nbformat": 4,
 "nbformat_minor": 4
}
