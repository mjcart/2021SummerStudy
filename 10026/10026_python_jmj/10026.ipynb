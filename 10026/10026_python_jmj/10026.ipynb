{
 "cells": [
  {
   "cell_type": "code",
   "execution_count": 1,
   "metadata": {},
   "outputs": [
    {
     "name": "stdout",
     "output_type": "stream",
     "text": [
      "5\n",
      "rrrbb\n",
      "gggbbb\n",
      "bbbrrr\n",
      "bbrrr\n",
      "rrrrr\n"
     ]
    }
   ],
   "source": [
    "#python은 재귀함수가 1000회로 제한되어있어 제한 해제\n",
    "import sys\n",
    "sys.setrecursionlimit(100000)\n",
    "n=int(input())\n",
    "#나눠진 구역을 보여주는 리스트\n",
    "l=[[0 for i in range(n)]for j in range(n)]\n",
    "k=[]\n",
    "area=0\n",
    "#옆에 있는 글자가 현재 글자와 같다면 같은 area 부여\n",
    "def infest(a,b):\n",
    "    if a>-1 and b>-1 and l[a][b]==0 :\n",
    "        l[a][b]=area\n",
    "    else:\n",
    "        return\n",
    "    # 4방향 모두 확인\n",
    "    try:\n",
    "        if k[a][b]==k[a+1][b]:\n",
    "            infest(a+1,b)\n",
    "    except:\n",
    "        pass\n",
    "    try:\n",
    "        if k[a][b]==k[a-1][b]:\n",
    "            infest(a-1,b)\n",
    "    except:\n",
    "        pass\n",
    "    try:\n",
    "        if k[a][b]==k[a][b+1]:\n",
    "            infest(a,b+1)\n",
    "    except:\n",
    "        pass\n",
    "    try:\n",
    "        if k[a][b]==k[a][b-1]:\n",
    "            infest(a,b-1)\n",
    "    except:\n",
    "        pass\n",
    "    \n",
    "    \n",
    "for i in range(n):\n",
    "    k.append(list(input()))\n",
    "    \n",
    "for i in range(n):\n",
    "    for j in range(n):\n",
    "        #l[i][j]가 0이라는것은 새로운 area시작이라는 의미\n",
    "        if l[i][j]==0:\n",
    "            area+=1\n",
    "            infest(i,j)\n",
    "            \n",
    "print(area,end=' ')\n",
    "#적녹색맹으로 G와 R을 같은 취급\n",
    "for i in range(n):\n",
    "    for j in range(n):\n",
    "        if k[i][j]=='G':\n",
    "            k[i][j]='R'\n",
    "            \n",
    "area=0\n",
    "l=[[0 for i in range(n)]for j in range(n)]\n",
    "for i in range(n):\n",
    "    for j in range(n):\n",
    "        if l[i][j]==0:\n",
    "            area+=1\n",
    "            infest(i,j)\n",
    "            \n",
    "print(area)\n",
    "            \n",
    "\n",
    "\n",
    "\n"
   ]
  }
 ],
 "metadata": {
  "kernelspec": {
   "display_name": "Python 3",
   "language": "python",
   "name": "python3"
  },
  "language_info": {
   "codemirror_mode": {
    "name": "ipython",
    "version": 3
   },
   "file_extension": ".py",
   "mimetype": "text/x-python",
   "name": "python",
   "nbconvert_exporter": "python",
   "pygments_lexer": "ipython3",
   "version": "3.9.0"
  }
 },
 "nbformat": 4,
 "nbformat_minor": 4
}
