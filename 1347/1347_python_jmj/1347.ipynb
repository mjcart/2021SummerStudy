{
 "cells": [
  {
   "cell_type": "code",
   "execution_count": 9,
   "metadata": {
    "scrolled": true
   },
   "outputs": [
    {
     "name": "stdout",
     "output_type": "stream",
     "text": [
      "5\n",
      "RRFRF\n",
      "..\n",
      ".#\n"
     ]
    }
   ],
   "source": [
    "n=int(input())\n",
    "l=input()\n",
    "maze=[[0 for i in range(100)]for j in range(100)]\n",
    "maze[50][50]=1\n",
    "x=50\n",
    "y=50\n",
    "#방향리스트\n",
    "direction=['d','l','t','r']\n",
    "#현재방향\n",
    "direct=0\n",
    "#방향전환 수\n",
    "def turn(a):\n",
    "    global direct\n",
    "    #우회전일경우 index를 1증가시킴\n",
    "    if a=='R':\n",
    "        if direct==3:\n",
    "            direct=0\n",
    "        else:direct+=1\n",
    "    #좌회전일경우 index를 1감소시킴\n",
    "    elif a=='L':\n",
    "        if direct==0:\n",
    "            direct=3\n",
    "        else:direct-=1\n",
    "\n",
    "for i in l:\n",
    "    #직진시\n",
    "    if i=='F':\n",
    "        if direction[direct]=='d':\n",
    "            x+=1\n",
    "        elif direction[direct]=='t':\n",
    "            x-=1\n",
    "        elif direction[direct]=='r':\n",
    "            y+=1\n",
    "        elif direction[direct]=='l':\n",
    "            y-=1\n",
    "        maze[x][y]=1\n",
    "    #회전시\n",
    "    elif i=='R'or i=='L':\n",
    "        turn(i)\n",
    "xlist=[]\n",
    "ylist=[]\n",
    "#꼭짓점 좌표 찾기\n",
    "for i in range(100):\n",
    "    for j in range(100):\n",
    "        if maze[i][j]==1:\n",
    "            xlist.append(i)\n",
    "            ylist.append(j)\n",
    "xmax=max(xlist)\n",
    "xmin=min(xlist)\n",
    "ymax=max(ylist)\n",
    "ymin=min(ylist)\n",
    "#길이면'.', 나머지는 '#' 출력\n",
    "for i in range(xmin,xmax+1):\n",
    "    for j in range(ymin,ymax+1):\n",
    "        if maze[i][j]==1:\n",
    "            print('.',end='')\n",
    "        else:\n",
    "            print('#',end='')\n",
    "    print()\n"
   ]
  },
  {
   "cell_type": "markdown",
   "metadata": {},
   "source": [
    "##### "
   ]
  }
 ],
 "metadata": {
  "kernelspec": {
   "display_name": "Python 3",
   "language": "python",
   "name": "python3"
  },
  "language_info": {
   "codemirror_mode": {
    "name": "ipython",
    "version": 3
   },
   "file_extension": ".py",
   "mimetype": "text/x-python",
   "name": "python",
   "nbconvert_exporter": "python",
   "pygments_lexer": "ipython3",
   "version": "3.9.0"
  }
 },
 "nbformat": 4,
 "nbformat_minor": 4
}
