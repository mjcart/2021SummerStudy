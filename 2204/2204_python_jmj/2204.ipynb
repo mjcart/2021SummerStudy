{
 "cells": [
  {
   "cell_type": "code",
   "execution_count": 10,
   "metadata": {
    "scrolled": true
   },
   "outputs": [
    {
     "name": "stdout",
     "output_type": "stream",
     "text": [
      "3\n",
      "Cat\n",
      "fat\n",
      "bAt\n",
      "bAt\n",
      "4\n",
      "call\n",
      "ball\n",
      "All\n",
      "Hall\n",
      "All\n",
      "0\n"
     ]
    }
   ],
   "source": [
    "n=int(input())\n",
    "\n",
    "while n!=0:\n",
    "    l=[]\n",
    "    for i in range(n):\n",
    "        l.append(input())\n",
    "    newl=[]\n",
    "    for i in range(n):\n",
    "        newl.append(l[i].lower())\n",
    "    newl.sort()\n",
    "    for i in l:\n",
    "        if newl[0]==i.lower():\n",
    "            print(i)\n",
    "    del l\n",
    "    del newl\n",
    "    n=int(input())\n",
    "\n",
    "\n"
   ]
  }
 ],
 "metadata": {
  "kernelspec": {
   "display_name": "Python 3",
   "language": "python",
   "name": "python3"
  },
  "language_info": {
   "codemirror_mode": {
    "name": "ipython",
    "version": 3
   },
   "file_extension": ".py",
   "mimetype": "text/x-python",
   "name": "python",
   "nbconvert_exporter": "python",
   "pygments_lexer": "ipython3",
   "version": "3.9.0"
  }
 },
 "nbformat": 4,
 "nbformat_minor": 4
}
