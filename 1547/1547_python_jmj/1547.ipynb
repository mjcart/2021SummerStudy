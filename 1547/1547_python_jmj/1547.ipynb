{
 "cells": [
  {
   "cell_type": "code",
   "execution_count": 5,
   "metadata": {},
   "outputs": [
    {
     "name": "stdout",
     "output_type": "stream",
     "text": [
      "4\n",
      "3 1\n",
      "2 3\n",
      "3 1\n",
      "3 2\n",
      "3\n"
     ]
    }
   ],
   "source": [
    "n=int(input())\n",
    "cup=[1,2,3]\n",
    "for i in range(n):\n",
    "    x,y=map(int,input().split())\n",
    "    for i in range(3):\n",
    "        #공이 있는 컵을 건드릴 때만 최신화\n",
    "        if x==cup[0] and cup[i]==y:\n",
    "            cup[0],cup[i]=cup[i],cup[0]\n",
    "        elif y==cup[0] and cup[i]==x:\n",
    "            cup[0],cup[i]=cup[i],cup[0]\n",
    "print(cup[0])"
   ]
  },
  {
   "cell_type": "code",
   "execution_count": null,
   "metadata": {},
   "outputs": [],
   "source": []
  }
 ],
 "metadata": {
  "kernelspec": {
   "display_name": "Python 3",
   "language": "python",
   "name": "python3"
  },
  "language_info": {
   "codemirror_mode": {
    "name": "ipython",
    "version": 3
   },
   "file_extension": ".py",
   "mimetype": "text/x-python",
   "name": "python",
   "nbconvert_exporter": "python",
   "pygments_lexer": "ipython3",
   "version": "3.9.0"
  }
 },
 "nbformat": 4,
 "nbformat_minor": 4
}
