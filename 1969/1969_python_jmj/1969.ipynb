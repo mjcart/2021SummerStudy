{
 "cells": [
  {
   "cell_type": "code",
   "execution_count": 2,
   "metadata": {},
   "outputs": [
    {
     "name": "stdout",
     "output_type": "stream",
     "text": [
      "5 8\n",
      "TATGATAC\n",
      "TAAGCTAC\n",
      "AAAGATCC\n",
      "TGAGATAC\n",
      "TAAGATGT\n",
      "TAAGATAC\n",
      "31\n"
     ]
    }
   ],
   "source": [
    "n,m=map(int,input().split())\n",
    "dna=[]\n",
    "for i in range(n):\n",
    "    dna.append(input())\n",
    "result=''\n",
    "HD=0\n",
    "for j in range(m):\n",
    "    A=0\n",
    "    G=0\n",
    "    T=0\n",
    "    C=0\n",
    "    for i in range(n):\n",
    "        if dna[i][j]=='A':\n",
    "            A+=1\n",
    "        elif dna[i][j]=='G':\n",
    "            G+=1\n",
    "        elif dna[i][j]=='T':\n",
    "            T+=1\n",
    "        elif dna[i][j]=='C':\n",
    "            C+=1\n",
    "    if A==max(A,C,G,T):\n",
    "        result+='A'\n",
    "    elif C==max(A,C,G,T):\n",
    "        result+='C'\n",
    "    elif G==max(A,C,G,T):\n",
    "        result+='G'\n",
    "    elif T==max(A,C,G,T):\n",
    "        result+='T'\n",
    "    HD+=n-max(A,C,G,T)\n",
    "print(result)\n",
    "print(HD)"
   ]
  }
 ],
 "metadata": {
  "kernelspec": {
   "display_name": "Python 3",
   "language": "python",
   "name": "python3"
  },
  "language_info": {
   "codemirror_mode": {
    "name": "ipython",
    "version": 3
   },
   "file_extension": ".py",
   "mimetype": "text/x-python",
   "name": "python",
   "nbconvert_exporter": "python",
   "pygments_lexer": "ipython3",
   "version": "3.9.0"
  }
 },
 "nbformat": 4,
 "nbformat_minor": 4
}
