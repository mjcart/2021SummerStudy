{
 "cells": [
  {
   "cell_type": "code",
   "execution_count": 3,
   "metadata": {},
   "outputs": [
    {
     "name": "stdout",
     "output_type": "stream",
     "text": [
      "42 105\n",
      "1 42 105\n",
      "3 14 35\n",
      "7 6 15\n",
      "21 2 5\n"
     ]
    }
   ],
   "source": [
    "def gcd(m,n):\n",
    "    m,n=max(m,n),min(m,n)\n",
    "    if n == 0:\n",
    "        return m\n",
    "    mod = m % n\n",
    "    if mod != 0:\n",
    "        m, n = n, mod\n",
    "        return gcd(m, n)\n",
    "    else:\n",
    "        return n\n",
    "r,g=map(int,input().split())\n",
    "for i in range(1,gcd(r,g)+1):\n",
    "    if r%i==0 and g%i==0:\n",
    "        print(f'{i} {r//i} {g//i}')"
   ]
  }
 ],
 "metadata": {
  "kernelspec": {
   "display_name": "Python 3",
   "language": "python",
   "name": "python3"
  },
  "language_info": {
   "codemirror_mode": {
    "name": "ipython",
    "version": 3
   },
   "file_extension": ".py",
   "mimetype": "text/x-python",
   "name": "python",
   "nbconvert_exporter": "python",
   "pygments_lexer": "ipython3",
   "version": "3.9.0"
  }
 },
 "nbformat": 4,
 "nbformat_minor": 4
}
