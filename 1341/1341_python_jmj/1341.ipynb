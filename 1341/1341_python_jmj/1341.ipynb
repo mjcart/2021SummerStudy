{
 "cells": [
  {
   "cell_type": "code",
   "execution_count": 26,
   "metadata": {},
   "outputs": [
    {
     "name": "stdout",
     "output_type": "stream",
     "text": [
      "1 5\n",
      "--**\n"
     ]
    }
   ],
   "source": [
    "\n",
    "\n",
    "\n",
    "def solve(a,b):\n",
    "    isInfinite=False\n",
    "    ret=''\n",
    "    \n",
    "    if a==0:\n",
    "        print(\"-\")\n",
    "        return\n",
    "    if a==b:\n",
    "        print(\"*\")\n",
    "        return\n",
    "    origin_a=a;\n",
    "    #최장 길이60이니, 소숫점120자리까지알아야함\n",
    "    while a!=0 and len(ret)<120:\n",
    "        if origin_a==a:\n",
    "            isInfinite=True\n",
    "        \n",
    "        #소수의 이진수 표현\n",
    "        a+=a\n",
    "        \n",
    "        if a>=b:\n",
    "            ret+='1'\n",
    "            a-=b\n",
    "        else:\n",
    "            ret+='0'\n",
    "    #소숫점 아래 120자리 이하의 유한소수 이거나\n",
    "    #소숫점 아래 120자리 이상이지만 순환소수가아닌경우\n",
    "    #60자리 이하로 패턴 매칭을 할 수 없다.\n",
    "    if len(ret)<120 or isInfinite==False:\n",
    "        print(-1)\n",
    "        return\n",
    "    #60자리까지 패턴 매칭\n",
    "    for i in range(1,61):\n",
    "        #패턴 \n",
    "        s=ret[0:i]\n",
    "        for j in range(i,120-i+1,i):\n",
    "            #패턴과 불일치\n",
    "            if ret[j:j+i]!=s:\n",
    "                s='#'\n",
    "                break\n",
    "        #패턴 일치\n",
    "        if s!='#':\n",
    "            \n",
    "            s=s.replace('1','*')\n",
    "            s=s.replace('0','-')\n",
    "            \n",
    "            print(s)\n",
    "            return\n",
    "    \n",
    "    print(-1)\n",
    "\n",
    "\n",
    "a,b=map(int,input().split())\n",
    "solve(a,b)"
   ]
  },
  {
   "cell_type": "code",
   "execution_count": null,
   "metadata": {},
   "outputs": [],
   "source": []
  },
  {
   "cell_type": "code",
   "execution_count": null,
   "metadata": {},
   "outputs": [],
   "source": []
  }
 ],
 "metadata": {
  "kernelspec": {
   "display_name": "Python 3",
   "language": "python",
   "name": "python3"
  },
  "language_info": {
   "codemirror_mode": {
    "name": "ipython",
    "version": 3
   },
   "file_extension": ".py",
   "mimetype": "text/x-python",
   "name": "python",
   "nbconvert_exporter": "python",
   "pygments_lexer": "ipython3",
   "version": "3.9.0"
  }
 },
 "nbformat": 4,
 "nbformat_minor": 4
}
