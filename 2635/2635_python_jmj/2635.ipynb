{
 "cells": [
  {
   "cell_type": "code",
   "execution_count": 2,
   "metadata": {},
   "outputs": [
    {
     "name": "stdout",
     "output_type": "stream",
     "text": [
      "100\n",
      "8\n",
      "100 62 38 24 14 10 4 6 "
     ]
    }
   ],
   "source": [
    "n=int(input())\n",
    "maxlen=0\n",
    "maxlist=[]\n",
    "for i in range(1,n+1):\n",
    "    nowlist=[]\n",
    "    nowlist.append(n)\n",
    "    nowlist.append(i)\n",
    "    prev2=n\n",
    "    prev1=i\n",
    "    while True:\n",
    "        temp=prev2-prev1\n",
    "        if temp>=0:\n",
    "            nowlist.append(temp)\n",
    "        else:\n",
    "            break\n",
    "        prev2=prev1\n",
    "        prev1=temp\n",
    "    if maxlen<len(nowlist):\n",
    "        maxlen=len(nowlist)\n",
    "        maxlist=nowlist\n",
    "print(maxlen)\n",
    "for i in maxlist:\n",
    "    print(i,end=' ')"
   ]
  }
 ],
 "metadata": {
  "kernelspec": {
   "display_name": "Python 3",
   "language": "python",
   "name": "python3"
  },
  "language_info": {
   "codemirror_mode": {
    "name": "ipython",
    "version": 3
   },
   "file_extension": ".py",
   "mimetype": "text/x-python",
   "name": "python",
   "nbconvert_exporter": "python",
   "pygments_lexer": "ipython3",
   "version": "3.9.0"
  }
 },
 "nbformat": 4,
 "nbformat_minor": 4
}
