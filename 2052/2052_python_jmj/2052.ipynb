{
 "cells": [
  {
   "cell_type": "code",
   "execution_count": 13,
   "metadata": {},
   "outputs": [
    {
     "name": "stdout",
     "output_type": "stream",
     "text": [
      "300\n",
      "0.000000000000000000000000000000000000000000000000000000000000000000000000000000000000000000490909346529772655309577195498627564297521551249944956511154911718710525472171585646009788403733195227718357156513187851316791861042471890280751482410896345225310546445986192853894181098439730703830718994140625\n"
     ]
    }
   ],
   "source": [
    "n=int(input())\n",
    "a=\"%.300f\"%float(1/(2**n))\n",
    "end=len(a)\n",
    "#쓸모없는 0 제거\n",
    "for i in range(end-1,1,-1):\n",
    "    if a[i]!='0':\n",
    "        end=i\n",
    "        break\n",
    "    \n",
    "print(a[:end+1])"
   ]
  }
 ],
 "metadata": {
  "kernelspec": {
   "display_name": "Python 3",
   "language": "python",
   "name": "python3"
  },
  "language_info": {
   "codemirror_mode": {
    "name": "ipython",
    "version": 3
   },
   "file_extension": ".py",
   "mimetype": "text/x-python",
   "name": "python",
   "nbconvert_exporter": "python",
   "pygments_lexer": "ipython3",
   "version": "3.9.0"
  }
 },
 "nbformat": 4,
 "nbformat_minor": 4
}
