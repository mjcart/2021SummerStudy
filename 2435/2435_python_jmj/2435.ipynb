{
 "cells": [
  {
   "cell_type": "code",
   "execution_count": 14,
   "metadata": {
    "scrolled": true
   },
   "outputs": [
    {
     "name": "stdout",
     "output_type": "stream",
     "text": [
      "10 5\n",
      "3 -2 -4 -9 0 3 7 13 8 -3\n",
      "[3, -2, -4, -9, 0, 3, 7, 13, 8, -3]\n",
      "31\n"
     ]
    }
   ],
   "source": [
    "n,k=map(int,input().split())\n",
    "l=[0 for i in range(n)]\n",
    "l[:n]=(map(int,input().split()))\n",
    "\n",
    "newl=[]\n",
    "for j in range(n-k+1):\n",
    "    newl.append(sum(l[j:j+k]))\n",
    "print(max(newl))"
   ]
  }
 ],
 "metadata": {
  "kernelspec": {
   "display_name": "Python 3",
   "language": "python",
   "name": "python3"
  },
  "language_info": {
   "codemirror_mode": {
    "name": "ipython",
    "version": 3
   },
   "file_extension": ".py",
   "mimetype": "text/x-python",
   "name": "python",
   "nbconvert_exporter": "python",
   "pygments_lexer": "ipython3",
   "version": "3.9.0"
  }
 },
 "nbformat": 4,
 "nbformat_minor": 4
}
