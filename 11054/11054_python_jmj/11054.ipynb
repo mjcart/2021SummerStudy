{
 "cells": [
  {
   "cell_type": "code",
   "execution_count": 2,
   "metadata": {},
   "outputs": [
    {
     "name": "stdout",
     "output_type": "stream",
     "text": [
      "10\n",
      "1 5 2 1 4 3 4 5 2 1\n",
      "7\n"
     ]
    }
   ],
   "source": [
    "n=int(input())\n",
    "a=list(map(int,input().split()))\n",
    "upper=[0 for i in range(n)]\n",
    "lower=[0 for i in range(n)]\n",
    "#기준이 되는 숫자보다 작은게 전에 있으면 \n",
    "#upper값을 전에 있던거 중 최대로 대입 후 자기자리까지 +1\n",
    "for i in range(n):\n",
    "    for j in range(i):\n",
    "        if a[i]>a[j]:\n",
    "            upper[i]=max(upper[i],upper[j])\n",
    "    upper[i]+=1\n",
    " #기준이 되는 숫자보다 작은것이 후에 있으면\n",
    "#lower값을 후에 있던거 중 최대로 대입 후 자기자리까지 +1\n",
    "for i in range(n-1,-1,-1):\n",
    "    for j in range(n-1,i,-1):\n",
    "        if a[j]<a[i]:\n",
    "            lower[i]=max(lower[i],lower[j])\n",
    "    lower[i]+=1\n",
    "ans=0\n",
    "#바이토닉 부분 수열이 되는 최대길이 조합을 ans에 대입\n",
    "for i in range(n):\n",
    "    ans=max(ans,lower[i]+upper[i])\n",
    "#자기자리가 2번 더해졌으므로 -1\n",
    "print(ans-1)"
   ]
  }
 ],
 "metadata": {
  "kernelspec": {
   "display_name": "Python 3",
   "language": "python",
   "name": "python3"
  },
  "language_info": {
   "codemirror_mode": {
    "name": "ipython",
    "version": 3
   },
   "file_extension": ".py",
   "mimetype": "text/x-python",
   "name": "python",
   "nbconvert_exporter": "python",
   "pygments_lexer": "ipython3",
   "version": "3.9.0"
  }
 },
 "nbformat": 4,
 "nbformat_minor": 4
}
