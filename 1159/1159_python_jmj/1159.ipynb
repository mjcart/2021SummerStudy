{
 "cells": [
  {
   "cell_type": "code",
   "execution_count": 20,
   "metadata": {},
   "outputs": [
    {
     "name": "stdout",
     "output_type": "stream",
     "text": [
      "18\n",
      "ba\n",
      "ke\n",
      "bo\n",
      "bu\n",
      "sa\n",
      "ba\n",
      "kr\n",
      "hr\n",
      "be\n",
      "bo\n",
      "kr\n",
      "pe\n",
      "kl\n",
      "ku\n",
      "su\n",
      "ko\n",
      "ko\n",
      "pr\n",
      "b\n",
      "k\n"
     ]
    }
   ],
   "source": [
    "n=int(input())\n",
    "name=[]\n",
    "for i in range(n):\n",
    "    name.append(input())\n",
    "key={}\n",
    "for i in name:\n",
    "    try:key[i[0]]+=1\n",
    "    except:key[i[0]]=1\n",
    "result=[]\n",
    "for i in key:\n",
    "    if key[i]>4:\n",
    "        result.append(i)\n",
    "if len(result)==0:\n",
    "    print('PREDAJA')\n",
    "else:\n",
    "    result.sort()\n",
    "    for i in result:\n",
    "        print(i,end='')\n",
    "\n"
   ]
  }
 ],
 "metadata": {
  "kernelspec": {
   "display_name": "Python 3",
   "language": "python",
   "name": "python3"
  },
  "language_info": {
   "codemirror_mode": {
    "name": "ipython",
    "version": 3
   },
   "file_extension": ".py",
   "mimetype": "text/x-python",
   "name": "python",
   "nbconvert_exporter": "python",
   "pygments_lexer": "ipython3",
   "version": "3.9.0"
  }
 },
 "nbformat": 4,
 "nbformat_minor": 4
}
