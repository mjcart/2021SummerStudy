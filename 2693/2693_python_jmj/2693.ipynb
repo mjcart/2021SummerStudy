{
 "cells": [
  {
   "cell_type": "code",
   "execution_count": 4,
   "metadata": {},
   "outputs": [
    {
     "name": "stdout",
     "output_type": "stream",
     "text": [
      "3\n",
      "2 3 1 5\n",
      "5 4 2 7\n",
      "2 3 6 1\n",
      "2\n",
      "4\n",
      "2\n"
     ]
    }
   ],
   "source": [
    "n=int(input())\n",
    "l=[]\n",
    "for i in range(n):\n",
    "    #각 TC마다 리스트로 리스트 안에 저장\n",
    "    l.append(list(map(int,input().split())))\n",
    "    \n",
    "for i in l:\n",
    "    i.sort(reverse=True)\n",
    "    print(i[2])\n"
   ]
  }
 ],
 "metadata": {
  "kernelspec": {
   "display_name": "Python 3",
   "language": "python",
   "name": "python3"
  },
  "language_info": {
   "codemirror_mode": {
    "name": "ipython",
    "version": 3
   },
   "file_extension": ".py",
   "mimetype": "text/x-python",
   "name": "python",
   "nbconvert_exporter": "python",
   "pygments_lexer": "ipython3",
   "version": "3.9.0"
  }
 },
 "nbformat": 4,
 "nbformat_minor": 4
}
